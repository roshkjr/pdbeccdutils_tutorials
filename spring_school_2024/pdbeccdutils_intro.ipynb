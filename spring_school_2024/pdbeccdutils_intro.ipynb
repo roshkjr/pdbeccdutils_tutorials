{
 "cells": [
  {
   "cell_type": "code",
   "execution_count": 1,
   "metadata": {
    "vscode": {
     "languageId": "html"
    }
   },
   "outputs": [
    {
     "ename": "SyntaxError",
     "evalue": "invalid syntax (2474296534.py, line 1)",
     "output_type": "error",
     "traceback": [
      "\u001b[0;36m  Cell \u001b[0;32mIn[1], line 1\u001b[0;36m\u001b[0m\n\u001b[0;31m    <a target=\"_blank\" href=\"https://colab.research.google.com/github/roshkjr/pdbeccdutils_tutorials/blob/main/spring_school_2024/pdbeccdutils_intro.ipynb\">\u001b[0m\n\u001b[0m    ^\u001b[0m\n\u001b[0;31mSyntaxError\u001b[0m\u001b[0;31m:\u001b[0m invalid syntax\n"
     ]
    }
   ],
   "source": [
    "<a target=\"_blank\" href=\"https://colab.research.google.com/github/roshkjr/pdbeccdutils_tutorials/blob/main/spring_school_2024/pdbeccdutils_intro.ipynb\">\n",
    "  <img src=\"https://colab.research.google.com/assets/colab-badge.svg\" alt=\"Open In Colab\"/>\n",
    "</a>"
   ]
  },
  {
   "cell_type": "markdown",
   "metadata": {},
   "source": [
    "# Introduction"
   ]
  },
  {
   "cell_type": "markdown",
   "metadata": {},
   "source": [
    "PDBe CCDUtils is an open-source python package for processing and analyzing small molecules in the PDB. Small-molecule data in the PDB is available as [Chemical Component Dictionary (CCD)](http://www.wwpdb.org/data/ccd) or [Biologically Interesting Molecule reference Dictioanry (BIRD)](http://www.wwpdb.org/data/bird) in PDBX/mmCIF format. PDBe CCDUtils provides streamlined access to all metadata of small molecules in the PDB and offers a set of convenient methods to compute various properties of small molecules using RDKIt such as \n",
    "\n",
    "* [Physicochemical properties](#accessing-properties-of-CCD)\n",
    "* [Matching common fragments and scaffolds](#finding-fragments-and-scaffolds)\n",
    "* [Mapping to small-molecule databases using UniChem](#fetching-external-mappings-to-other-databases)\n",
    "* 2D depictions\n",
    " \n",
    "\n",
    "PDBe CCDUtils also provides methods for identifying all the Covalently Linked Chemical components (CLC) in a macromolecular structure and calculating similarity among small molecules using [PARITY method](https://www.ncbi.nlm.nih.gov/pmc/articles/PMC5890617/) "
   ]
  },
  {
   "cell_type": "markdown",
   "metadata": {},
   "source": [
    "## Installation of dependencies"
   ]
  },
  {
   "cell_type": "code",
   "execution_count": null,
   "metadata": {},
   "outputs": [],
   "source": [
    "%pip install rdkit"
   ]
  },
  {
   "cell_type": "code",
   "execution_count": null,
   "metadata": {},
   "outputs": [],
   "source": [
    "%pip install pdbeccdutils"
   ]
  },
  {
   "cell_type": "code",
   "execution_count": null,
   "metadata": {},
   "outputs": [],
   "source": [
    "import os\n",
    "import requests\n",
    "from enum import Enum\n",
    "from pdbeccdutils.core import ccd_reader\n",
    "from pdbeccdutils.core.component import Component"
   ]
  },
  {
   "cell_type": "code",
   "execution_count": null,
   "metadata": {},
   "outputs": [],
   "source": [
    "PDBECHEM_URL = \"https://ftp.ebi.ac.uk/pub/databases/msd/pdbechem_v2\"\n",
    "ENTRY_URL = \"https://ftp.ebi.ac.uk/pub/databases/msd/updated_mmcif/all\"\n",
    "\n",
    "class ligandType(Enum):\n",
    "    CCD = \"ccd\"\n",
    "    PRD = \"prd\"\n",
    "    CLC = \"clc\"\n",
    "\n",
    "\n",
    "def get_ligand_cif(ligand_id: str, ligand_type: ligandType) -> str:\n",
    "    \"\"\"\n",
    "    Downloads and writes ligand CIF from PDBe FTP to a file\n",
    "    and returns the path\n",
    "\n",
    "    Args:\n",
    "        ligand_id: ID of the ligand\n",
    "        ligand_type: Type of ligand\n",
    "    \n",
    "    Returns:\n",
    "        The path to cif file of ligand\n",
    "    \"\"\"\n",
    "    match ligand_type.value:\n",
    "        case \"ccd\":\n",
    "            ligand_dir = os.path.join(\"ccd\", ligand_id[0], ligand_id)\n",
    "        case \"prd\":\n",
    "            ligand_dir = os.path.join(\"prd\", ligand_id[-1],ligand_id)\n",
    "        case \"clc\":\n",
    "            ligand_dir = os.path.join(\"clc\", ligand_id[-1],ligand_id)\n",
    "    try:\n",
    "        ligand_cif_path = os.path.join(PDBECHEM_URL, ligand_dir, f\"{ligand_id}.cif\")\n",
    "        response = requests.get(ligand_cif_path)\n",
    "        assert response.status_code == 200\n",
    "        ligand_cif_file = os.path.join(os.getcwd(), f\"{ligand_id}.cif\")\n",
    "        with open(ligand_cif_file, \"wb\") as fh:\n",
    "            fh.write(response.content)\n",
    "\n",
    "        return ligand_cif_file\n",
    "    except  AssertionError:\n",
    "        print(f\"Couldn't find the file. Check if {ligand_id} & {ligand_type} are valid, if so try again\")\n"
   ]
  },
  {
   "cell_type": "markdown",
   "metadata": {},
   "source": [
    "## Reading small molecule data"
   ]
  },
  {
   "cell_type": "code",
   "execution_count": 2,
   "metadata": {},
   "outputs": [],
   "source": [
    "hem_cif = get_ligand_cif(\"HEM\", ligandType.CCD)\n",
    "hem =  ccd_reader.read_pdb_cif_file(hem_cif)"
   ]
  },
  {
   "cell_type": "code",
   "execution_count": 3,
   "metadata": {},
   "outputs": [
    {
     "data": {
      "text/plain": [
       "CCDReaderResult(warnings=[], errors=[], component=<pdbeccdutils.core.component.Component object at 0x7fb7883920e0>, sanitized=True)"
      ]
     },
     "execution_count": 3,
     "metadata": {},
     "output_type": "execute_result"
    }
   ],
   "source": [
    "hem"
   ]
  },
  {
   "cell_type": "markdown",
   "metadata": {},
   "source": [
    "CCDReaderResult contains a component object - the core structural representation of small-molecules in PDBe CCDUtils. Component is a wrapper around rdkit.Chem.rdchem.Mol object providing most of its functionality and access metada data from CCD file. "
   ]
  },
  {
   "cell_type": "code",
   "execution_count": 3,
   "metadata": {},
   "outputs": [],
   "source": [
    "hem_component = hem.component"
   ]
  },
  {
   "cell_type": "markdown",
   "metadata": {},
   "source": [
    "### Accessing properties of CCD"
   ]
  },
  {
   "cell_type": "markdown",
   "metadata": {},
   "source": [
    "Properties in the CCD file and physicochemical properties generated by RDKit can be accessed using attributes of the Component object"
   ]
  },
  {
   "cell_type": "code",
   "execution_count": 4,
   "metadata": {},
   "outputs": [
    {
     "name": "stdout",
     "output_type": "stream",
     "text": [
      "\n",
      "id: HEM\n",
      "name: PROTOPORPHYRIN IX CONTAINING FE\n",
      "formula: C34 H32 Fe N4 O4\n",
      "inchi: InChI=1S/C34H34N4O4.Fe/c1-7-21-17(3)25-13-26-19(5)23(9-11-33(39)40)31(37-26)16-32-24(10-12-34(41)42)20(6)28(38-32)15-30-22(8-2)18(4)27(36-30)14-29(21)35-25;/h7-8,13-16H,1-2,9-12H2,3-6H3,(H4,35,36,37,38,39,40,41,42);/q;+2/p-2/b25-13-,26-13-,27-14-,28-15-,29-14-,30-15-,31-16-,32-16-;\n",
      "inchikey: KABFMIBPWCXCRK-RGGAHWMASA-L\n",
      "release status: REL\n",
      "modified_date: 2020-06-17\n",
      "\n"
     ]
    }
   ],
   "source": [
    "print(f\"\"\"\n",
    "id: {hem_component.id}\n",
    "name: {hem_component.name}\n",
    "formula: {hem_component.formula}\n",
    "inchi: {hem_component.inchi}\n",
    "inchikey: {hem_component.inchikey}\n",
    "release status: {hem_component.pdbx_release_status.name}\n",
    "modified_date: {hem_component.modified_date}\n",
    "\"\"\")"
   ]
  },
  {
   "cell_type": "code",
   "execution_count": 5,
   "metadata": {},
   "outputs": [
    {
     "data": {
      "text/plain": [
       "[Descriptor(type='SMILES', program='ACDLabs', program_version='12.01', value='C=1c3c(c(c4C=C5C(=C(C=6C=C7C(=C(C8=CC=2C(=C(C=1N=2[Fe](n34)(N5=6)N78)CCC(=O)O)C)\\\\C=C)C)\\\\C=C)C)C)CCC(=O)O'),\n",
       " Descriptor(type='InChI', program='InChI', program_version='1.03', value='InChI=1S/C34H34N4O4.Fe/c1-7-21-17(3)25-13-26-19(5)23(9-11-33(39)40)31(37-26)16-32-24(10-12-34(41)42)20(6)28(38-32)15-30-22(8-2)18(4)27(36-30)14-29(21)35-25;/h7-8,13-16H,1-2,9-12H2,3-6H3,(H4,35,36,37,38,39,40,41,42);/q;+2/p-2/b25-13-,26-13-,27-14-,28-15-,29-14-,30-15-,31-16-,32-16-;'),\n",
       " Descriptor(type='InChIKey', program='InChI', program_version='1.03', value='KABFMIBPWCXCRK-RGGAHWMASA-L'),\n",
       " Descriptor(type='SMILES_CANONICAL', program='CACTVS', program_version='3.385', value='CC1=C(CCC(O)=O)C2=Cc3n4[Fe]5|6|N2=C1C=c7n5c(=CC8=N|6C(=Cc4c(C)c3CCC(O)=O)C(=C8C=C)C)c(C)c7C=C'),\n",
       " Descriptor(type='SMILES', program='CACTVS', program_version='3.385', value='CC1=C(CCC(O)=O)C2=Cc3n4[Fe]5|6|N2=C1C=c7n5c(=CC8=N|6C(=Cc4c(C)c3CCC(O)=O)C(=C8C=C)C)c(C)c7C=C'),\n",
       " Descriptor(type='SMILES_CANONICAL', program='OpenEye OEToolkits', program_version='1.7.6', value='Cc1c2n3c(c1CCC(=O)O)C=C4C(=C(C5=[N]4[Fe]36[N]7=C(C=C8N6C(=C5)C(=C8C)C=C)C(=C(C7=C2)C)C=C)C)CCC(=O)O'),\n",
       " Descriptor(type='SMILES', program='OpenEye OEToolkits', program_version='1.7.6', value='Cc1c2n3c(c1CCC(=O)O)C=C4C(=C(C5=[N]4[Fe]36[N]7=C(C=C8N6C(=C5)C(=C8C)C=C)C(=C(C7=C2)C)C=C)C)CCC(=O)O'),\n",
       " Descriptor(type='SYSTEMATIC NAME', program='OpenEye OEToolkits', program_version='1.6.1', value='3-[(5Z,10Z,14Z,19Z)-18-(2-carboxyethyl)-8,13-bis(ethenyl)-3,7,12,17-tetramethyl-21,23-dihydroporphyrin-2-yl]propanoic acid'),\n",
       " Descriptor(type='SYSTEMATIC NAME', program='ACDLabs', program_version='12.01', value=\"[3,3'-(7,12-diethenyl-3,8,13,17-tetramethylporphyrin-2,18-diyl-kappa~4~N~21~,N~22~,N~23~,N~24~)dipropanoato(2-)]iron\")]"
      ]
     },
     "execution_count": 5,
     "metadata": {},
     "output_type": "execute_result"
    }
   ],
   "source": [
    "hem_component.descriptors"
   ]
  },
  {
   "cell_type": "code",
   "execution_count": 16,
   "metadata": {},
   "outputs": [
    {
     "data": {
      "text/plain": [
       "{'exactmw': 616.177293004001,\n",
       " 'amw': 616.4990000000015,\n",
       " 'lipinskiHBA': 8.0,\n",
       " 'lipinskiHBD': 2.0,\n",
       " 'NumRotatableBonds': 12.0,\n",
       " 'NumHBD': 2.0,\n",
       " 'NumHBA': 8.0,\n",
       " 'NumHeavyAtoms': 43.0,\n",
       " 'NumAtoms': 75.0,\n",
       " 'NumHeteroatoms': 9.0,\n",
       " 'NumAmideBonds': 0.0,\n",
       " 'FractionCSP3': 0.23529411764705882,\n",
       " 'NumRings': 6.0,\n",
       " 'NumAromaticRings': 2.0,\n",
       " 'NumAliphaticRings': 4.0,\n",
       " 'NumSaturatedRings': 0.0,\n",
       " 'NumHeterocycles': 6.0,\n",
       " 'NumAromaticHeterocycles': 2.0,\n",
       " 'NumSaturatedHeterocycles': 0.0,\n",
       " 'NumAliphaticHeterocycles': 4.0,\n",
       " 'NumSpiroAtoms': 0.0,\n",
       " 'NumBridgeheadAtoms': 6.0,\n",
       " 'NumAtomStereoCenters': 1.0,\n",
       " 'NumUnspecifiedAtomStereoCenters': 0.0,\n",
       " 'labuteASA': 296.33725284003606,\n",
       " 'tpsa': 96.26000000000002,\n",
       " 'CrippenClogP': 6.210060000000007,\n",
       " 'CrippenMR': 165.27259999999967,\n",
       " 'chi0v': 21.879585517566603,\n",
       " 'chi1v': 13.71303192500862,\n",
       " 'chi2v': 11.67144422171997,\n",
       " 'chi3v': 11.67144422171997,\n",
       " 'chi4v': 10.931337280412357,\n",
       " 'chi0n': 52.775400934448555,\n",
       " 'chi1n': 27.554303075888956,\n",
       " 'chi2n': 7.046175792189254,\n",
       " 'chi3n': 7.046175792189254,\n",
       " 'chi4n': 5.474853708651833,\n",
       " 'hallKierAlpha': -4.460519480519479,\n",
       " 'kappa1': 9.033095446276976,\n",
       " 'kappa2': 8.336182650117628,\n",
       " 'kappa3': 2.8255702357007864,\n",
       " 'Phi': 1.7511984543281554}"
      ]
     },
     "execution_count": 16,
     "metadata": {},
     "output_type": "execute_result"
    }
   ],
   "source": [
    "hem_component.physchem_properties"
   ]
  },
  {
   "cell_type": "markdown",
   "metadata": {},
   "source": [
    "### Fetching external mappings to other databases"
   ]
  },
  {
   "cell_type": "code",
   "execution_count": 18,
   "metadata": {},
   "outputs": [],
   "source": [
    "external_mappings = hem_component.fetch_external_mappings(all_mappings=True)\n",
    "external_mappings"
   ]
  },
  {
   "cell_type": "markdown",
   "metadata": {},
   "source": [
    "### Finding fragments and scaffolds"
   ]
  },
  {
   "cell_type": "markdown",
   "metadata": {},
   "source": [
    "PDBe CCDUtils supports search for fragments present in a small molecule from a library of fragments. The fragment library present in PDBe CCDUtils contains 2158 fragments which were manually currated at PDBe and collaborating resources (ENAMINE, DSI). Should you wish to check all the fragments, please check [fragment_library.tsv](https://github.com/PDBeurope/ccdutils/blob/master/pdbeccdutils/data/fragment_library.tsv) file."
   ]
  },
  {
   "cell_type": "code",
   "execution_count": 6,
   "metadata": {},
   "outputs": [],
   "source": [
    "from pdbeccdutils.core.fragment_library import FragmentLibrary\n",
    "from rdkit.Chem import Draw"
   ]
  },
  {
   "cell_type": "code",
   "execution_count": 7,
   "metadata": {},
   "outputs": [],
   "source": [
    "fragment_library = FragmentLibrary()"
   ]
  },
  {
   "cell_type": "code",
   "execution_count": 8,
   "metadata": {},
   "outputs": [
    {
     "name": "stdout",
     "output_type": "stream",
     "text": [
      "No of fragments found: 2\n"
     ]
    }
   ],
   "source": [
    "fragment_matches = hem_component.library_search(fragment_library)\n",
    "print(f\"No of fragments found: {len(fragment_matches)}\")"
   ]
  },
  {
   "cell_type": "code",
   "execution_count": 9,
   "metadata": {},
   "outputs": [
    {
     "data": {
      "text/plain": [
       "[SubstructureMapping(name='porphin-like', mol=<rdkit.Chem.rdchem.Mol object at 0x7fdf80da6810>, source='PDBe', mappings=((5, 6, 7, 1, 14, 39, 17, 16, 15, 2, 21, 40, 24, 3, 28, 41, 31, 0, 4, 38, 30, 29, 23, 22),)),\n",
       " SubstructureMapping(name='pyrrole', mol=<rdkit.Chem.rdchem.Mol object at 0x7fdf80da6f80>, source='PDBe', mappings=((4, 5, 6, 7, 38), (21, 22, 23, 24, 40)))]"
      ]
     },
     "execution_count": 9,
     "metadata": {},
     "output_type": "execute_result"
    }
   ],
   "source": [
    "fragment_matches"
   ]
  },
  {
   "cell_type": "code",
   "execution_count": 10,
   "metadata": {},
   "outputs": [
    {
     "data": {
      "image/png": "[encoded data removed]",
      "text/plain": [
       "<IPython.core.display.Image object>"
      ]
     },
     "execution_count": 10,
     "metadata": {},
     "output_type": "execute_result"
    }
   ],
   "source": [
    "fragment_mols = [fragment.mol for fragment in hem_component.fragments]\n",
    "img = Draw.MolsToGridImage(fragment_mols, legends = [fragment.name for fragment in hem_component.fragments])\n",
    "img"
   ]
  },
  {
   "cell_type": "markdown",
   "metadata": {},
   "source": [
    "CCD files contains Model conformer (coordiantes present in the PDB entry from which the definition of the CCD was created) and Ideal conformer (Idealized coordiantes generated using OpenEye Toolkit). Properties of both Model and Ideal conformers can be accessed from the mol attribute of component object. "
   ]
  },
  {
   "cell_type": "code",
   "execution_count": 4,
   "metadata": {},
   "outputs": [
    {
     "data": {
      "image/png": "[encoded data removed]",
      "text/plain": [
       "<rdkit.Chem.rdchem.Mol at 0x7fcb6a014740>"
      ]
     },
     "execution_count": 4,
     "metadata": {},
     "output_type": "execute_result"
    }
   ],
   "source": [
    "hem.component.mol"
   ]
  },
  {
   "cell_type": "markdown",
   "metadata": {},
   "source": [
    "### Scaffolds"
   ]
  },
  {
   "cell_type": "markdown",
   "metadata": {},
   "source": [
    "PDBe CCDUtils supports identification of scaffolds of small moelcules in PDB using the RDKit functionality. Currently it supports three types of scaffolding methods\n",
    "* MurckoScaffold\n",
    "* MurckoScaffoldGeneric\n",
    "* BRICS"
   ]
  },
  {
   "cell_type": "code",
   "execution_count": null,
   "metadata": {},
   "outputs": [],
   "source": [
    "from pdbeccdutils.core.models import ScaffoldingMethod"
   ]
  },
  {
   "cell_type": "code",
   "execution_count": null,
   "metadata": {},
   "outputs": [],
   "source": [
    "murcko_scaffolds = hem_component.get_scaffolds(scaffolding_method = ScaffoldingMethod.MurckoScaffold)\n",
    "generic_murcko_scaffolds = hem_component.get_scaffolds(scaffolding_method = ScaffoldingMethod.MurckoGeneric)\n",
    "brics_scaffolds = hem_component.get_scaffolds(scaffolding_method=ScaffoldingMethod.Brics)"
   ]
  },
  {
   "cell_type": "code",
   "execution_count": null,
   "metadata": {},
   "outputs": [],
   "source": [
    "murcko_scaffolds[0]"
   ]
  },
  {
   "cell_type": "code",
   "execution_count": null,
   "metadata": {},
   "outputs": [],
   "source": [
    "### 2D Depictions"
   ]
  },
  {
   "cell_type": "code",
   "execution_count": null,
   "metadata": {},
   "outputs": [],
   "source": [
    "PDBe CCDUtils uses [template-based](https://rdkit.org/docs/source/rdkit.Chem.rdDepictor.html#rdkit.Chem.rdDepictor.GenerateDepictionMatching2DStructure) and [connectivity based](https://rdkit.org/docs/source/rdkit.Chem.rdCoordGen.html) methods from RDKit to generate 2D depictions of small moelcules. Templates can either be downloaded from PubChem or provided as a path to a folder containing SDF files. A hand-curated set of [ten templates](https://github.com/PDBeurope/ccdutils/tree/master/pdbeccdutils/data/general_templates) are also provided with PDBe CCDUtils\n",
    "\n",
    "To find the best depiction of a small molecule, a heuristic-based Depiction Penalty Score (DPS) is defined. A DPS of zero indicates a high-quality 2D depiction, while higher scores indicate lower quality."
   ]
  },
  {
   "cell_type": "code",
   "execution_count": null,
   "metadata": {},
   "outputs": [],
   "source": [
    "hem_component.mol"
   ]
  },
  {
   "cell_type": "code",
   "execution_count": null,
   "metadata": {},
   "outputs": [],
   "source": [
    "hem_component.export_2d_svg(\"hem.svg\")"
   ]
  },
  {
   "cell_type": "code",
   "execution_count": null,
   "metadata": {},
   "outputs": [],
   "source": [
    "from pdbeccdutils.core.depictions import DepictionManager\n",
    "from pdbeccdutils.utils.pubchem_downloader import PubChemDownloader"
   ]
  },
  {
   "cell_type": "code",
   "execution_count": null,
   "metadata": {},
   "outputs": [],
   "source": [
    "pubchem_templates = os.path.join(os.getcwd(), \"data\", \"pubchem_templates\")\n",
    "pubchem_downloader = PubChemDownloader(pubchem_templates)\n",
    "pubchem_downloader.process_template(hem_component)"
   ]
  },
  {
   "cell_type": "code",
   "execution_count": null,
   "metadata": {},
   "outputs": [],
   "source": [
    "depictions = DepictionManager(pubchem_templates)\n",
    "depiction_result = hem_component.compute_2d(depictions)\n",
    "depiction_result"
   ]
  },
  {
   "cell_type": "code",
   "execution_count": null,
   "metadata": {},
   "outputs": [],
   "source": [
    "hem_component.mol2D"
   ]
  },
  {
   "cell_type": "code",
   "execution_count": null,
   "metadata": {},
   "outputs": [],
   "source": [
    "### Similarity using PARITY method"
   ]
  },
  {
   "cell_type": "code",
   "execution_count": null,
   "metadata": {},
   "outputs": [],
   "source": [
    "PDBe CCDUtils supports comparison of small moelcules based on [PARITY](https://www.ncbi.nlm.nih.gov/pmc/articles/PMC5890617/) similarity score. PARITY represents the proportion of atoms of same type residing in identical topology between two small molecules"
   ]
  },
  {
   "cell_type": "code",
   "execution_count": null,
   "metadata": {},
   "outputs": [],
   "source": [
    "from pdbeccdutils.computations.parity_method import compare_molecules"
   ]
  },
  {
   "cell_type": "code",
   "execution_count": null,
   "metadata": {},
   "outputs": [],
   "source": [
    "heme_acetyl_cif = get_ligand_cif(\"HCO\", ligandType.CCD)\n",
    "heme_acetyl_component = ccd_reader.read_pdb_cif_file(heme_acetyl_cif).component"
   ]
  },
  {
   "cell_type": "code",
   "execution_count": null,
   "metadata": {},
   "outputs": [],
   "source": [
    "similarity = compare_molecules(hem_component.mol_no_h, heme_acetyl_component.mol_no_h)"
   ]
  },
  {
   "cell_type": "code",
   "execution_count": null,
   "metadata": {},
   "outputs": [],
   "source": [
    "similarity"
   ]
  },
  {
   "cell_type": "markdown",
   "metadata": {},
   "source": [
    "### Export to different formats"
   ]
  },
  {
   "cell_type": "markdown",
   "metadata": {},
   "source": [
    "PDBe CCDUtils presently supports exporting of small molecule data to the following formats\n",
    "* CIF\n",
    "* PDB\n",
    "* SDF\n",
    "* CML"
   ]
  },
  {
   "cell_type": "code",
   "execution_count": null,
   "metadata": {},
   "outputs": [],
   "source": [
    "from pdbeccdutils.core import ccd_writer"
   ]
  },
  {
   "cell_type": "code",
   "execution_count": null,
   "metadata": {},
   "outputs": [],
   "source": [
    "ccd_writer.write_molecule(\"outputs/hem.sdf\",\n",
    "                          hem_component,\n",
    "                          )"
   ]
  },
  {
   "cell_type": "code",
   "execution_count": null,
   "metadata": {},
   "outputs": [],
   "source": [
    "ccd_writer.write_molecule(\"outputs/hem.pdb\",\n",
    "                          hem_component,\n",
    "                          )"
   ]
  }
 ],
 "metadata": {
  "kernelspec": {
   "display_name": "Python 3 (ipykernel)",
   "language": "python",
   "name": "python3"
  },
  "language_info": {
   "codemirror_mode": {
    "name": "ipython",
    "version": 3
   },
   "file_extension": ".py",
   "mimetype": "text/x-python",
   "name": "python",
   "nbconvert_exporter": "python",
   "pygments_lexer": "ipython3",
   "version": "3.10.0"
  }
 },
 "nbformat": 4,
 "nbformat_minor": 4
}
