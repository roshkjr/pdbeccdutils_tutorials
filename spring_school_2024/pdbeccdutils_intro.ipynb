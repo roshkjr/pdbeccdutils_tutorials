{
 "cells": [
  {
   "cell_type": "markdown",
   "metadata": {},
   "source": [
    "<a target=\"_blank\" href=\"https://colab.research.google.com/github/roshkjr/pdbeccdutils_tutorials/blob/main/spring_school_2024/pdbeccdutils_intro.ipynb\">\n",
    "  <img src=\"https://colab.research.google.com/assets/colab-badge.svg\" alt=\"Open In Colab\"/>\n",
    "</a>"
   ]
  },
  {
   "cell_type": "markdown",
   "metadata": {},
   "source": [
    "# Introduction"
   ]
  },
  {
   "cell_type": "markdown",
   "metadata": {},
   "source": [
    "PDBe CCDUtils is an open-source python package for processing and analyzing small molecules in the PDB. Small-molecule data in the PDB is available as [Chemical Component Dictionary (CCD)](http://www.wwpdb.org/data/ccd) or [Biologically Interesting Molecule reference Dictioanry (BIRD)](http://www.wwpdb.org/data/bird) in PDBX/mmCIF format. PDBe CCDUtils provides streamlined access to all metadata of small molecules in the PDB and offers a set of convenient methods to compute various properties of small molecules using RDKIt such as \n",
    "\n",
    "* [Physicochemical properties](#accessing-properties-of-CCD)\n",
    "* [Matching common fragments and scaffolds](#finding-fragments-and-scaffolds)\n",
    "* [Mapping to small-molecule databases using UniChem](#fetching-external-mappings-to-other-databases)\n",
    "* 2D depictions\n",
    " \n",
    "\n",
    "PDBe CCDUtils also provides methods for identifying all the Covalently Linked Chemical components (CLC) in a macromolecular structure and calculating similarity among small molecules using [PARITY method](https://www.ncbi.nlm.nih.gov/pmc/articles/PMC5890617/) "
   ]
  },
  {
   "cell_type": "markdown",
   "metadata": {},
   "source": [
    "## Installation of dependencies"
   ]
  },
  {
   "cell_type": "code",
   "execution_count": null,
   "metadata": {},
   "outputs": [],
   "source": [
    "%pip install rdkit"
   ]
  },
  {
   "cell_type": "code",
   "execution_count": null,
   "metadata": {},
   "outputs": [],
   "source": [
    "%pip install pdbeccdutils"
   ]
  },
  {
   "cell_type": "code",
   "execution_count": null,
   "metadata": {},
   "outputs": [],
   "source": [
    "import os\n",
    "import requests\n",
    "from enum import Enum\n",
    "from pdbeccdutils.core import ccd_reader\n",
    "from pdbeccdutils.core.component import Component"
   ]
  },
  {
   "cell_type": "code",
   "execution_count": null,
   "metadata": {},
   "outputs": [],
   "source": [
    "PDBECHEM_URL = \"https://ftp.ebi.ac.uk/pub/databases/msd/pdbechem_v2\"\n",
    "ENTRY_URL = \"https://ftp.ebi.ac.uk/pub/databases/msd/updated_mmcif/all\"\n",
    "\n",
    "class ligandType(Enum):\n",
    "    CCD = \"ccd\"\n",
    "    PRD = \"prd\"\n",
    "    CLC = \"clc\"\n",
    "\n",
    "\n",
    "def get_ligand_cif(ligand_id: str, ligand_type: ligandType) -> str:\n",
    "    \"\"\"\n",
    "    Downloads and writes ligand CIF from PDBe FTP to a file\n",
    "    and returns the path\n",
    "\n",
    "    Args:\n",
    "        ligand_id: ID of the ligand\n",
    "        ligand_type: Type of ligand\n",
    "    \n",
    "    Returns:\n",
    "        The path to cif file of ligand\n",
    "    \"\"\"\n",
    "    match ligand_type.value:\n",
    "        case \"ccd\":\n",
    "            ligand_dir = os.path.join(\"ccd\", ligand_id[0], ligand_id)\n",
    "        case \"prd\":\n",
    "            ligand_dir = os.path.join(\"prd\", ligand_id[-1],ligand_id)\n",
    "        case \"clc\":\n",
    "            ligand_dir = os.path.join(\"clc\", ligand_id[-1],ligand_id)\n",
    "    try:\n",
    "        ligand_cif_path = os.path.join(PDBECHEM_URL, ligand_dir, f\"{ligand_id}.cif\")\n",
    "        response = requests.get(ligand_cif_path)\n",
    "        assert response.status_code == 200\n",
    "        ligand_cif_file = os.path.join(os.getcwd(), f\"{ligand_id}.cif\")\n",
    "        with open(ligand_cif_file, \"wb\") as fh:\n",
    "            fh.write(response.content)\n",
    "\n",
    "        return ligand_cif_file\n",
    "    except  AssertionError:\n",
    "        print(f\"Couldn't find the file. Check if {ligand_id} & {ligand_type} are valid, if so try again\")\n"
   ]
  },
  {
   "cell_type": "markdown",
   "metadata": {},
   "source": [
    "## Reading small molecule data"
   ]
  },
  {
   "cell_type": "code",
   "execution_count": null,
   "metadata": {},
   "outputs": [],
   "source": [
    "hem_cif = get_ligand_cif(\"HEM\", ligandType.CCD)\n",
    "hem =  ccd_reader.read_pdb_cif_file(hem_cif)"
   ]
  },
  {
   "cell_type": "code",
   "execution_count": null,
   "metadata": {},
   "outputs": [],
   "source": [
    "hem"
   ]
  },
  {
   "cell_type": "markdown",
   "metadata": {},
   "source": [
    "CCDReaderResult contains a component object - the core structural representation of small-molecules in PDBe CCDUtils. Component is a wrapper around rdkit.Chem.rdchem.Mol object providing most of its functionality and access metada data from CCD file. "
   ]
  },
  {
   "cell_type": "code",
   "execution_count": null,
   "metadata": {},
   "outputs": [],
   "source": [
    "hem_component = hem.component"
   ]
  },
  {
   "cell_type": "markdown",
   "metadata": {},
   "source": [
    "### Accessing properties of CCD"
   ]
  },
  {
   "cell_type": "markdown",
   "metadata": {},
   "source": [
    "Properties in the CCD file and physicochemical properties generated by RDKit can be accessed using attributes of the Component object"
   ]
  },
  {
   "cell_type": "code",
   "execution_count": null,
   "metadata": {},
   "outputs": [],
   "source": [
    "print(f\"\"\"\n",
    "id: {hem_component.id}\n",
    "name: {hem_component.name}\n",
    "formula: {hem_component.formula}\n",
    "inchi: {hem_component.inchi}\n",
    "inchikey: {hem_component.inchikey}\n",
    "release status: {hem_component.pdbx_release_status.name}\n",
    "modified_date: {hem_component.modified_date}\n",
    "\"\"\")"
   ]
  },
  {
   "cell_type": "code",
   "execution_count": null,
   "metadata": {},
   "outputs": [],
   "source": [
    "hem_component.descriptors"
   ]
  },
  {
   "cell_type": "code",
   "execution_count": null,
   "metadata": {},
   "outputs": [],
   "source": [
    "hem_component.physchem_properties"
   ]
  },
  {
   "cell_type": "markdown",
   "metadata": {},
   "source": [
    "### Fetching external mappings to other databases"
   ]
  },
  {
   "cell_type": "code",
   "execution_count": null,
   "metadata": {},
   "outputs": [],
   "source": [
    "external_mappings = hem_component.fetch_external_mappings(all_mappings=True)\n",
    "external_mappings"
   ]
  },
  {
   "cell_type": "markdown",
   "metadata": {},
   "source": [
    "### Finding fragments and scaffolds"
   ]
  },
  {
   "cell_type": "markdown",
   "metadata": {},
   "source": [
    "PDBe CCDUtils supports search for fragments present in a small molecule from a library of fragments. The fragment library present in PDBe CCDUtils contains 2158 fragments which were manually currated at PDBe and collaborating resources (ENAMINE, DSI). Should you wish to check all the fragments, please check [fragment_library.tsv](https://github.com/PDBeurope/ccdutils/blob/master/pdbeccdutils/data/fragment_library.tsv) file."
   ]
  },
  {
   "cell_type": "code",
   "execution_count": null,
   "metadata": {},
   "outputs": [],
   "source": [
    "from pdbeccdutils.core.fragment_library import FragmentLibrary\n",
    "from rdkit.Chem import Draw"
   ]
  },
  {
   "cell_type": "code",
   "execution_count": null,
   "metadata": {},
   "outputs": [],
   "source": [
    "fragment_library = FragmentLibrary()"
   ]
  },
  {
   "cell_type": "code",
   "execution_count": null,
   "metadata": {},
   "outputs": [],
   "source": [
    "fragment_matches = hem_component.library_search(fragment_library)\n",
    "print(f\"No of fragments found: {len(fragment_matches)}\")"
   ]
  },
  {
   "cell_type": "code",
   "execution_count": null,
   "metadata": {},
   "outputs": [],
   "source": [
    "fragment_matches"
   ]
  },
  {
   "cell_type": "code",
   "execution_count": null,
   "metadata": {},
   "outputs": [],
   "source": [
    "fragment_mols = [fragment.mol for fragment in hem_component.fragments]\n",
    "img = Draw.MolsToGridImage(fragment_mols, legends = [fragment.name for fragment in hem_component.fragments])\n",
    "img"
   ]
  },
  {
   "cell_type": "markdown",
   "metadata": {},
   "source": [
    "CCD files contains Model conformer (coordiantes present in the PDB entry from which the definition of the CCD was created) and Ideal conformer (Idealized coordiantes generated using OpenEye Toolkit). Properties of both Model and Ideal conformers can be accessed from the mol attribute of component object. "
   ]
  },
  {
   "cell_type": "code",
   "execution_count": null,
   "metadata": {},
   "outputs": [],
   "source": [
    "hem.component.mol"
   ]
  },
  {
   "cell_type": "markdown",
   "metadata": {},
   "source": [
    "### Scaffolds"
   ]
  },
  {
   "cell_type": "markdown",
   "metadata": {},
   "source": [
    "PDBe CCDUtils supports identification of scaffolds of small moelcules in PDB using the RDKit functionality. Currently it supports three types of scaffolding methods\n",
    "* MurckoScaffold\n",
    "* MurckoScaffoldGeneric\n",
    "* BRICS"
   ]
  },
  {
   "cell_type": "code",
   "execution_count": null,
   "metadata": {},
   "outputs": [],
   "source": [
    "from pdbeccdutils.core.models import ScaffoldingMethod"
   ]
  },
  {
   "cell_type": "code",
   "execution_count": null,
   "metadata": {},
   "outputs": [],
   "source": [
    "murcko_scaffolds = hem_component.get_scaffolds(scaffolding_method = ScaffoldingMethod.MurckoScaffold)\n",
    "generic_murcko_scaffolds = hem_component.get_scaffolds(scaffolding_method = ScaffoldingMethod.MurckoGeneric)\n",
    "brics_scaffolds = hem_component.get_scaffolds(scaffolding_method=ScaffoldingMethod.Brics)"
   ]
  },
  {
   "cell_type": "code",
   "execution_count": null,
   "metadata": {},
   "outputs": [],
   "source": [
    "murcko_scaffolds[0]"
   ]
  },
  {
   "cell_type": "code",
   "execution_count": null,
   "metadata": {},
   "outputs": [],
   "source": [
    "### 2D Depictions"
   ]
  },
  {
   "cell_type": "code",
   "execution_count": null,
   "metadata": {},
   "outputs": [],
   "source": [
    "PDBe CCDUtils uses [template-based](https://rdkit.org/docs/source/rdkit.Chem.rdDepictor.html#rdkit.Chem.rdDepictor.GenerateDepictionMatching2DStructure) and [connectivity based](https://rdkit.org/docs/source/rdkit.Chem.rdCoordGen.html) methods from RDKit to generate 2D depictions of small moelcules. Templates can either be downloaded from PubChem or provided as a path to a folder containing SDF files. A hand-curated set of [ten templates](https://github.com/PDBeurope/ccdutils/tree/master/pdbeccdutils/data/general_templates) are also provided with PDBe CCDUtils\n",
    "\n",
    "To find the best depiction of a small molecule, a heuristic-based Depiction Penalty Score (DPS) is defined. A DPS of zero indicates a high-quality 2D depiction, while higher scores indicate lower quality."
   ]
  },
  {
   "cell_type": "code",
   "execution_count": null,
   "metadata": {},
   "outputs": [],
   "source": [
    "hem_component.mol"
   ]
  },
  {
   "cell_type": "code",
   "execution_count": null,
   "metadata": {},
   "outputs": [],
   "source": [
    "hem_component.export_2d_svg(\"hem.svg\")"
   ]
  },
  {
   "cell_type": "code",
   "execution_count": null,
   "metadata": {},
   "outputs": [],
   "source": [
    "from pdbeccdutils.core.depictions import DepictionManager\n",
    "from pdbeccdutils.utils.pubchem_downloader import PubChemDownloader"
   ]
  },
  {
   "cell_type": "code",
   "execution_count": null,
   "metadata": {},
   "outputs": [],
   "source": [
    "pubchem_templates = os.path.join(os.getcwd(), \"data\", \"pubchem_templates\")\n",
    "pubchem_downloader = PubChemDownloader(pubchem_templates)\n",
    "pubchem_downloader.process_template(hem_component)"
   ]
  },
  {
   "cell_type": "code",
   "execution_count": null,
   "metadata": {},
   "outputs": [],
   "source": [
    "depictions = DepictionManager(pubchem_templates)\n",
    "depiction_result = hem_component.compute_2d(depictions)\n",
    "depiction_result"
   ]
  },
  {
   "cell_type": "code",
   "execution_count": null,
   "metadata": {},
   "outputs": [],
   "source": [
    "hem_component.mol2D"
   ]
  },
  {
   "cell_type": "code",
   "execution_count": null,
   "metadata": {},
   "outputs": [],
   "source": [
    "### Similarity using PARITY method"
   ]
  },
  {
   "cell_type": "code",
   "execution_count": null,
   "metadata": {},
   "outputs": [],
   "source": [
    "PDBe CCDUtils supports comparison of small moelcules based on [PARITY](https://www.ncbi.nlm.nih.gov/pmc/articles/PMC5890617/) similarity score. PARITY represents the proportion of atoms of same type residing in identical topology between two small molecules"
   ]
  },
  {
   "cell_type": "code",
   "execution_count": null,
   "metadata": {},
   "outputs": [],
   "source": [
    "from pdbeccdutils.computations.parity_method import compare_molecules"
   ]
  },
  {
   "cell_type": "code",
   "execution_count": null,
   "metadata": {},
   "outputs": [],
   "source": [
    "heme_acetyl_cif = get_ligand_cif(\"HCO\", ligandType.CCD)\n",
    "heme_acetyl_component = ccd_reader.read_pdb_cif_file(heme_acetyl_cif).component"
   ]
  },
  {
   "cell_type": "code",
   "execution_count": null,
   "metadata": {},
   "outputs": [],
   "source": [
    "similarity = compare_molecules(hem_component.mol_no_h, heme_acetyl_component.mol_no_h)"
   ]
  },
  {
   "cell_type": "code",
   "execution_count": null,
   "metadata": {},
   "outputs": [],
   "source": [
    "similarity"
   ]
  },
  {
   "cell_type": "markdown",
   "metadata": {},
   "source": [
    "### Export to different formats"
   ]
  },
  {
   "cell_type": "markdown",
   "metadata": {},
   "source": [
    "PDBe CCDUtils presently supports exporting of small molecule data to the following formats\n",
    "* CIF\n",
    "* PDB\n",
    "* SDF\n",
    "* CML"
   ]
  },
  {
   "cell_type": "code",
   "execution_count": null,
   "metadata": {},
   "outputs": [],
   "source": [
    "from pdbeccdutils.core import ccd_writer"
   ]
  },
  {
   "cell_type": "code",
   "execution_count": null,
   "metadata": {},
   "outputs": [],
   "source": [
    "ccd_writer.write_molecule(\"outputs/hem.sdf\",\n",
    "                          hem_component,\n",
    "                          )"
   ]
  },
  {
   "cell_type": "code",
   "execution_count": null,
   "metadata": {},
   "outputs": [],
   "source": [
    "ccd_writer.write_molecule(\"outputs/hem.pdb\",\n",
    "                          hem_component,\n",
    "                          )"
   ]
  }
 ],
 "metadata": {
  "kernelspec": {
   "display_name": "Python 3 (ipykernel)",
   "language": "python",
   "name": "python3"
  },
  "language_info": {
   "codemirror_mode": {
    "name": "ipython",
    "version": 3
   },
   "file_extension": ".py",
   "mimetype": "text/x-python",
   "name": "python",
   "nbconvert_exporter": "python",
   "pygments_lexer": "ipython3",
   "version": "3.10.0"
  }
 },
 "nbformat": 4,
 "nbformat_minor": 4
}
